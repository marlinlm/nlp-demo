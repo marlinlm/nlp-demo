{
 "cells": [
  {
   "cell_type": "markdown",
   "id": "38c00f02-36b1-457b-a2d1-3db213a76580",
   "metadata": {},
   "source": [
    "# 1. 准备\n",
    "\n",
    "* 安装python 3.8以上，目前的最新版本是[3.11](https://www.python.org/downloads/release/python-3111/)。\n",
    "  \n",
    "* 本例采用jupyter-lab作为开发环境，因此需要在电脑上安装[jupyter-lab](https://jupyter.org/)。\n",
    "\n",
    "\n",
    "* [注册openai账户](https://platform.openai.com)，并设置OPENAI_API_KEY环境变量。\n",
    "* 我们使用redis来保存所加载的书本的内容，因此需要部署一个redis服务。不同于我们平时一般web应用使用的redis服务，我们这次需要安装redis-stack：\n",
    "  ```bash\n",
    "  docker run -d -p 13333:8001 -p 10001:6379 redis/redis-stack:latest\n",
    "  ```\n",
    "* 然后安装相关的python依赖包\n",
    "  ```bash\n",
    "  pip install openai\n",
    "  pip install langchain\n",
    "  pip install redis\n",
    "  pip install unstructured\n",
    "  ```\n",
    "  \n",
    "* 安装[pandoc](https://github.com/jgm/pandoc/releases)，加载epub电子书要用 。"
   ]
  },
  {
   "cell_type": "code",
   "execution_count": 1,
   "id": "85481846-f907-4da5-aa91-5f54d4c5b32c",
   "metadata": {
    "tags": []
   },
   "outputs": [],
   "source": [
    "from langchain.embeddings import OpenAIEmbeddings\n",
    "from langchain.text_splitter import CharacterTextSplitter\n",
    "from langchain.vectorstores.redis import Redis\n",
    "from langchain.document_loaders import TextLoader\n",
    "from langchain.docstore.document import Document\n",
    "from langchain.document_loaders import UnstructuredEPubLoader\n",
    "import os\n",
    "from langchain import OpenAI, VectorDBQA\n",
    "from langchain.agents.agent_toolkits import (\n",
    "    create_vectorstore_agent,\n",
    "    VectorStoreToolkit,\n",
    "    VectorStoreRouterToolkit,\n",
    "    VectorStoreInfo,\n",
    ")"
   ]
  },
  {
   "cell_type": "markdown",
   "id": "b6c1fa37-70cb-47ca-aed0-104e9a85d2bf",
   "metadata": {},
   "source": [
    "# 2. 加载epub书内容"
   ]
  },
  {
   "cell_type": "code",
   "execution_count": 2,
   "id": "22354f59-7169-47c1-b4f9-51459e0d0853",
   "metadata": {
    "tags": []
   },
   "outputs": [
    {
     "name": "stdout",
     "output_type": "stream",
     "text": [
      "resources/epub/California - Sara Benson.epub\n",
      "resources/epub/LP_台湾_en.epub\n"
     ]
    }
   ],
   "source": [
    "dir = 'resources/epub'\n",
    "fs = os.listdir(dir)\n",
    "data={}\n",
    "documents={}\n",
    "for f in fs:\n",
    "    path = dir + '/' + f\n",
    "    if (os.path.isfile(path)):\n",
    "        print(path)\n",
    "        loader = UnstructuredEPubLoader(path,mode='elements')\n",
    "        data[f]=loader.load()\n",
    "\n",
    "for book in data.keys():\n",
    "    documents[book]=[]\n",
    "    for seg in data[book]:\n",
    "        cat = seg.metadata['category']\n",
    "        if cat == 'NarrativeText':\n",
    "            documents[book].append(seg)"
   ]
  },
  {
   "cell_type": "markdown",
   "id": "17bd3ba2-493a-4d49-ab20-f1b2d25188e5",
   "metadata": {},
   "source": [
    "# 3. 把数据以word vector的格式存入redis数据库。"
   ]
  },
  {
   "cell_type": "code",
   "execution_count": 4,
   "id": "ac2bc80d-b878-4265-b442-7ac5daab1cdd",
   "metadata": {
    "tags": []
   },
   "outputs": [],
   "source": [
    "redis_url='redis://localhost:10001'\n",
    "embeddings=OpenAIEmbeddings()\n",
    "for book in documents.keys():\n",
    "    rds = Redis.from_documents(documents[book],embeddings,redis_url=redis_url,index_name=book)"
   ]
  },
  {
   "cell_type": "markdown",
   "id": "1c9068a8-3bbb-4eeb-aed7-436e4b5fa842",
   "metadata": {},
   "source": [
    "# 4. 尝试做一次最相似查询"
   ]
  },
  {
   "cell_type": "code",
   "execution_count": 12,
   "id": "de7cdf67-efdb-465c-8640-b12272dae3df",
   "metadata": {
    "tags": []
   },
   "outputs": [
    {
     "data": {
      "text/plain": [
       "[Document(page_content='鯉魚潭;\\r\\nLǐyú Tán), a pretty willow-lined pond with a lush green mountain\\r\\nbackdrop, you’ll find hot springs', metadata={'source': 'resources/epub/LP_台湾_en.epub', 'page_number': 1, 'category': 'NarrativeText'}),\n",
       " Document(page_content='(明月溫泉 Míngyuè Wēnquán;  2661 7678; www.fullmoonspa.net; 1 Lane\\r\\n85, Wulai St; unlimited time public pools NT$490) One of\\r\\nthe more stylish hotels along the tourist street, Full Moon has mixed\\r\\nand nude segregated pools with nice views over the Tongshi River. Its\\r\\nprivate rooms feature wooden tubs. The hotel also offers rooms for\\r\\novernight stays from NT$2700. Go for the lower cheaper rooms as the\\r\\nviews are surprisingly better than higher up.', metadata={'source': 'resources/epub/LP_台湾_en.epub', 'page_number': 1, 'category': 'NarrativeText'}),\n",
       " Document(page_content='7 Sun Moon Lake (Click\\r\\nhere) is the largest body of water in Taiwan and boasts a\\r\\nwatercolour background ever changing with the season and light. Although\\r\\nthe area is packed with Chinese tourists these days it’s still\\r\\nremarkably easy to get away from the crowds on the many trails and\\r\\ncycling paths. Loop down to the old train depot at Checheng to explore\\r\\n1950s Taiwan, or head to Shuili to see the last working snake kiln. No\\r\\nmatter what, don’t miss the region’s high-mountain oolong tea: it’s some\\r\\nof the finest in the world.', metadata={'source': 'resources/epub/LP_台湾_en.epub', 'page_number': 1, 'category': 'NarrativeText'}),\n",
       " Document(page_content='(鯉魚潭露營區 Lǐyú Tán Lùyíng qū;  03-865 5678; per site NT$800) The\\r\\ncampground is 1km south of the lake off Hwy 9 and features showers,\\r\\nbarbecue areas and covered sites.', metadata={'source': 'resources/epub/LP_台湾_en.epub', 'page_number': 1, 'category': 'NarrativeText'})]"
      ]
     },
     "execution_count": 12,
     "metadata": {},
     "output_type": "execute_result"
    }
   ],
   "source": [
    "rds = Redis.from_existing_index(embeddings, redis_url=redis_url, index_name='LP_台湾_en.epub')\n",
    "query = '台湾日月潭'\n",
    "rds.similarity_search(query)"
   ]
  },
  {
   "cell_type": "markdown",
   "id": "92e14c53-53a4-4e05-a47f-dac92bb1fba3",
   "metadata": {
    "tags": []
   },
   "source": [
    "# 5. 接下来使用langchain的vector_store_agent来使用上边存下来的某书旅游数据，实现一个问答机器人。\n",
    "\n",
    "使用VectorStoreRouterToolkit可以将多本书一起作为输入，根据用户的问题切换到最合适的书。另一个可以选的toolkit叫VectorStoreToolkit(vectorstore_info=vectorstore_info)。这个toolkit的使用思路时把多本书存在一个index下，机器人会综合所有书的相关内容做出解答，另外如果用户要求提供来源，机器人会提取metadata里的'source'字段并回复。"
   ]
  },
  {
   "cell_type": "code",
   "execution_count": 90,
   "id": "f8220a56-e7a4-4ae9-858b-460102f444f6",
   "metadata": {
    "tags": []
   },
   "outputs": [],
   "source": [
    "llm = OpenAI(temperature=0)\n",
    "rdss = {}\n",
    "infos=[]\n",
    "for book in documents.keys():\n",
    "    rdss[book] = Redis.from_existing_index(embeddings, redis_url=redis_url, index_name=book)\n",
    "    vectorstore_info = VectorStoreInfo(\n",
    "        name=\"hotest_travel_advice_about_\"+ book,\n",
    "        description=\"the best travel advice about \" + book,\n",
    "        vectorstore=rdss[book]\n",
    "    )\n",
    "    infos.append(vectorstore_info)\n",
    "\n",
    "#使用VectorStoreRouterToolkit可以将多本书一起作为输入，根据用户的问题切换到最合适的书。\n",
    "toolkit = VectorStoreRouterToolkit(vectorstores=infos, llm=llm)\n",
    "agent_executor = create_vectorstore_agent(\n",
    "    llm=llm,\n",
    "    toolkit=toolkit,\n",
    "    verbose=True)\n"
   ]
  },
  {
   "cell_type": "markdown",
   "id": "f840e271-fc83-452e-a3e4-267559ab1055",
   "metadata": {},
   "source": [
    "# 6. 查看一下prompt"
   ]
  },
  {
   "cell_type": "code",
   "execution_count": 91,
   "id": "51431e25-b14c-4ed5-9930-893c169dbfa9",
   "metadata": {
    "tags": []
   },
   "outputs": [
    {
     "name": "stdout",
     "output_type": "stream",
     "text": [
      "input_variables=['input', 'agent_scratchpad'] output_parser=None partial_variables={} template='You are an agent designed to answer questions about sets of documents.\\nYou have access to tools for interacting with the documents, and the inputs to the tools are questions.\\nSometimes, you will be asked to provide sources for your questions, in which case you should use the appropriate tool to do so.\\nIf the question does not seem relevant to any of the tools provided, just return \"I don\\'t know\" as the answer.\\n\\n\\nhotest_travel_advice_about_California - Sara Benson.epub: Useful for when you need to answer questions about hotest_travel_advice_about_California - Sara Benson.epub. Whenever you need information about the best travel advice about California - Sara Benson.epub you should ALWAYS use this. Input should be a fully formed question.\\nhotest_travel_advice_about_LP_台湾_en.epub: Useful for when you need to answer questions about hotest_travel_advice_about_LP_台湾_en.epub. Whenever you need information about the best travel advice about LP_台湾_en.epub you should ALWAYS use this. Input should be a fully formed question.\\n\\nUse the following format:\\n\\nQuestion: the input question you must answer\\nThought: you should always think about what to do\\nAction: the action to take, should be one of [hotest_travel_advice_about_California - Sara Benson.epub, hotest_travel_advice_about_LP_台湾_en.epub]\\nAction Input: the input to the action\\nObservation: the result of the action\\n... (this Thought/Action/Action Input/Observation can repeat N times)\\nThought: I now know the final answer\\nFinal Answer: the final answer to the original input question\\n\\nBegin!\\n\\nQuestion: {input}\\nThought:{agent_scratchpad}' template_format='f-string' validate_template=True\n"
     ]
    }
   ],
   "source": [
    "print(agent_executor.agent.llm_chain.prompt)"
   ]
  },
  {
   "cell_type": "markdown",
   "id": "bee32703-5468-41e7-b835-69abe439f131",
   "metadata": {},
   "source": [
    "# 7. 尝试问个问题"
   ]
  },
  {
   "cell_type": "code",
   "execution_count": 98,
   "id": "e4e53709-8663-4c92-b47b-e1b919797c5d",
   "metadata": {
    "tags": []
   },
   "outputs": [
    {
     "name": "stdout",
     "output_type": "stream",
     "text": [
      "\n",
      "\n",
      "\u001b[1m> Entering new AgentExecutor chain...\u001b[0m\n",
      "\u001b[32;1m\u001b[1;3m I should use hotest_travel_advice_about_LP_台湾_en.epub to answer this question\n",
      "Action: hotest_travel_advice_about_LP_台湾_en.epub\n",
      "Action Input: 日月潭什么时候去旅游比较好\u001b[0m\n",
      "Observation: \u001b[33;1m\u001b[1;3m The best time to visit Sun Moon Lake is during autumn and early spring (October to December and March to April). May has seasonal monsoon rains, and typhoons are a problem from June to September, though if there is no typhoon, you can certainly visit.\u001b[0m\n",
      "Thought:\u001b[32;1m\u001b[1;3m I now know the final answer\n",
      "Final Answer: 日月潭最好的旅游时间是秋季和初春（10月到12月和3月到4月）。五月有季节性的季风雨，6月到9月有台风，但是如果没有台风，你也可以去旅游。\u001b[0m\n",
      "\n",
      "\u001b[1m> Finished chain.\u001b[0m\n",
      "日月潭最好的旅游时间是秋季和初春（10月到12月和3月到4月）。五月有季节性的季风雨，6月到9月有台风，但是如果没有台风，你也可以去旅游。\n"
     ]
    }
   ],
   "source": [
    "resp = agent_executor.run(\"日月潭什么时候去旅游比较好，请用中文回答\")\n",
    "print(resp)"
   ]
  }
 ],
 "metadata": {
  "kernelspec": {
   "display_name": "Python 3 (ipykernel)",
   "language": "python",
   "name": "python3"
  },
  "language_info": {
   "codemirror_mode": {
    "name": "ipython",
    "version": 3
   },
   "file_extension": ".py",
   "mimetype": "text/x-python",
   "name": "python",
   "nbconvert_exporter": "python",
   "pygments_lexer": "ipython3",
   "version": "3.11.3"
  }
 },
 "nbformat": 4,
 "nbformat_minor": 5
}
