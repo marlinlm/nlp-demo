{
 "cells": [
  {
   "cell_type": "markdown",
   "id": "38c00f02-36b1-457b-a2d1-3db213a76580",
   "metadata": {},
   "source": [
    "# 1. 准备\n",
    "\n",
    "* 安装python 3.8以上，目前的最新版本是3.11：\n",
    "  https://www.python.org/downloads/release/python-3111/\n",
    "* 本例采用jupyter-lab作为开发环境，因此需要在电脑上安装jupyter-lab。\n",
    "  https://jupyter.org/ \n",
    "\n",
    "* 注册openai账户，并设置OPENAI_API_KEY环境变量\n",
    "* redis服务需要安装redis-stack\n",
    "  ```bash\n",
    "  docker run -d -p 13333:8001 -p 10001:6379 redis/redis-stack:latest\n",
    "  ```\n",
    "* 然后安装相关的python依赖包\n",
    "  ```bash\n",
    "  pip install openai\n",
    "  pip install langchain\n",
    "  pip install urllib\n",
    "  pip install redis\n",
    "  ```"
   ]
  },
  {
   "cell_type": "code",
   "execution_count": 3,
   "id": "85481846-f907-4da5-aa91-5f54d4c5b32c",
   "metadata": {
    "tags": []
   },
   "outputs": [],
   "source": [
    "import requests\n",
    "import urllib.request\n",
    "import json\n",
    "from lxml import etree\n",
    "import time\n",
    "import random\n",
    "from langchain.embeddings import OpenAIEmbeddings\n",
    "from langchain.text_splitter import CharacterTextSplitter\n",
    "from langchain.vectorstores.redis import Redis\n",
    "from langchain.document_loaders import TextLoader\n",
    "from langchain.docstore.document import Document\n",
    "import redis\n"
   ]
  },
  {
   "cell_type": "markdown",
   "id": "b6c1fa37-70cb-47ca-aed0-104e9a85d2bf",
   "metadata": {},
   "source": [
    "# 2. 爬取数据\n",
    "\n",
    "本例略过所有与爬虫有关的内容。"
   ]
  },
  {
   "cell_type": "code",
   "execution_count": 5,
   "id": "22354f59-7169-47c1-b4f9-51459e0d0853",
   "metadata": {
    "tags": []
   },
   "outputs": [],
   "source": [
    "# 略\n",
    "# 伪造的数据，这些信息应该要通过爬虫爬出来\n",
    "notes=[{\n",
    "    'title':'abc',\n",
    "    'source':'https://www.baidu.com',\n",
    "    'content':'defg',\n",
    "    'uid':'123456',\n",
    "    'uname':'haha哥'\n",
    "}]"
   ]
  },
  {
   "cell_type": "markdown",
   "id": "6b2b4e85-d148-4387-b7b7-d99f643f5bfe",
   "metadata": {
    "tags": []
   },
   "source": [
    "# 3. 把数据以word vector的格式存入redis数据库。"
   ]
  },
  {
   "cell_type": "code",
   "execution_count": 6,
   "id": "f1baff49-0620-4843-bc4a-834d656008ed",
   "metadata": {
    "tags": []
   },
   "outputs": [
    {
     "name": "stdout",
     "output_type": "stream",
     "text": [
      "Inserted docs: 1\n"
     ]
    }
   ],
   "source": [
    "redis_url='redis://localhost:10001'\n",
    "embeddings=OpenAIEmbeddings()\n",
    "count=0\n",
    "for note in notes:\n",
    "    uid=note['uid']\n",
    "    uname=note['uname']\n",
    "    titl=note['title']\n",
    "    _content=note['content']\n",
    "    src=note['source']\n",
    "    content= str(titl) +'\\n\\n' + str(_content)\n",
    "    meta = {'source':src, 'title':titl, 'uid':uid, 'uname':uname}\n",
    "    doc = Document(page_content=content,metadata=meta)\n",
    "    rds = Redis.from_documents([doc],embeddings,redis_url=redis_url,index_name='link')\n",
    "    count=count+1\n",
    "\n",
    "print('Inserted docs:',str(count))\n"
   ]
  },
  {
   "cell_type": "markdown",
   "id": "1c9068a8-3bbb-4eeb-aed7-436e4b5fa842",
   "metadata": {},
   "source": [
    "# 4. 尝试做一次最相似查询\n",
    "当然，你如果直接用我上边的例子是查不出来我下边这些东西的，因为我这些内容是提前弄进数据库里的，你也可以通过自己的方法把数据写进数据库。"
   ]
  },
  {
   "cell_type": "code",
   "execution_count": 7,
   "id": "de7cdf67-efdb-465c-8640-b12272dae3df",
   "metadata": {
    "tags": []
   },
   "outputs": [
    {
     "data": {
      "text/plain": [
       "[Document(page_content='自驾318去西藏的路线图收好\\n\\n自驾318去西藏的路线图收好，当然，也可以跟阿杰旅行的车队，省心省力就能自驾西藏，有车无车都可以加入\\xa0\\xa0\\xa0\\xa0\\xa0\\xa0\\xa0\\xa0\\xa0\\xa0\\xa0\\xa0\\xa0\\xa0\\xa0\\xa0\\xa0\\xa0\\xa0', metadata={'source': 'https://www.xiaohongshu.com/explore/644a401c00000000130058ed', 'note_id': '644a401c00000000130058ed', 'title': '自驾318去西藏的路线图收好', 'type': 'video', 'user_id': '62244dc60000000010004d5f', 'user_nick_name': '阿杰旅行丨自驾攻略'}),\n",
       " Document(page_content='自驾318川藏线路线图\\n\\n自驾318川藏线路线图，走吧，跟着阿杰旅行的车队自驾西藏，不用自己做攻略，直接带上你的西藏梦和我出发吧，有车无车都可以加入\\xa0\\xa0\\xa0\\xa0\\xa0\\xa0\\xa0\\xa0\\xa0\\xa0\\xa0\\xa0\\xa0\\xa0\\xa0\\xa0', metadata={'source': 'https://www.xiaohongshu.com/explore/6448eb2700000000130151d0', 'note_id': '6448eb2700000000130151d0', 'title': '自驾318川藏线路线图', 'type': 'video', 'user_id': '62244dc60000000010004d5f', 'user_nick_name': '阿杰旅行丨自驾攻略'}),\n",
       " Document(page_content='自驾318去西藏的路线图，收藏好咯\\n\\n自驾318去西藏的路线图，收藏好咯，去西藏用的着。当然，也可以跟阿杰旅行的车队，省心省力就能自驾西藏，成都集合，每周出发\\xa0\\xa0\\xa0\\xa0\\xa0\\xa0\\xa0\\xa0\\xa0\\xa0\\xa0\\xa0\\xa0\\xa0\\xa0\\xa0\\xa0', metadata={'source': 'https://www.xiaohongshu.com/explore/64479c3d000000000800e2d7', 'note_id': '64479c3d000000000800e2d7', 'title': '自驾318去西藏的路线图，收藏好咯', 'type': 'video', 'user_id': '62244dc60000000010004d5f', 'user_nick_name': '阿杰旅行丨自驾攻略'}),\n",
       " Document(page_content='年轻就应该疯狂，此生必驾318\\n\\n年轻就应该疯狂，此生必驾318，一个人的旅行，一群人的狂欢，阿杰旅行车队即将出发，你打算什么时候出发呢，有车无车都可以加入\\xa0\\xa0\\xa0\\xa0\\xa0\\xa0\\xa0\\xa0\\xa0\\xa0\\xa0', metadata={'source': 'https://www.xiaohongshu.com/explore/6448e8cc0000000011012289', 'note_id': '6448e8cc0000000011012289', 'title': '年轻就应该疯狂，此生必驾318', 'type': 'video', 'user_id': '62244dc60000000010004d5f', 'user_nick_name': '阿杰旅行丨自驾攻略'})]"
      ]
     },
     "execution_count": 7,
     "metadata": {},
     "output_type": "execute_result"
    }
   ],
   "source": [
    "query = '自驾318'\n",
    "rds.similarity_search(query)"
   ]
  },
  {
   "cell_type": "markdown",
   "id": "92e14c53-53a4-4e05-a47f-dac92bb1fba3",
   "metadata": {
    "tags": []
   },
   "source": [
    "# 5. 接下来使用langchain的vector_store_agent来使用上边存下来的某书旅游数据，实现一个问答机器人。"
   ]
  },
  {
   "cell_type": "code",
   "execution_count": 10,
   "id": "f8220a56-e7a4-4ae9-858b-460102f444f6",
   "metadata": {
    "tags": []
   },
   "outputs": [],
   "source": [
    "from langchain import OpenAI, VectorDBQA\n",
    "llm = OpenAI(temperature=0)\n",
    "rds = Redis.from_existing_index(embeddings, redis_url=redis_url, index_name='link')\n",
    "from langchain.agents.agent_toolkits import (\n",
    "    create_vectorstore_agent,\n",
    "    VectorStoreToolkit,\n",
    "    VectorStoreInfo,\n",
    ")\n",
    "vectorstore_info = VectorStoreInfo(\n",
    "    name=\"hotest_travel_advice\",\n",
    "    description=\"the hotest travel advice at present\",\n",
    "    vectorstore=rds\n",
    ")\n",
    "toolkit = VectorStoreToolkit(vectorstore_info=vectorstore_info)\n",
    "agent_executor = create_vectorstore_agent(\n",
    "    llm=llm,\n",
    "    toolkit=toolkit,\n",
    "    verbose=True,\n",
    "    # prefix='You are an agent designed to answer questions about sets of documents.\\nYou have access to tools for interacting with the documents, and the inputs to the tools are questions.\\nYou will always provide sources for your questions, in which case you should use the appropriate tool to do so.\\nIf the question does not seem relevant to any of the tools provided, just return \"I don\\'t know\" as the answer.\\n'\n",
    ")\n"
   ]
  },
  {
   "cell_type": "markdown",
   "id": "f840e271-fc83-452e-a3e4-267559ab1055",
   "metadata": {},
   "source": [
    "# 6. 查看一下prompt"
   ]
  },
  {
   "cell_type": "code",
   "execution_count": 11,
   "id": "51431e25-b14c-4ed5-9930-893c169dbfa9",
   "metadata": {
    "tags": []
   },
   "outputs": [
    {
     "name": "stdout",
     "output_type": "stream",
     "text": [
      "input_variables=['input', 'agent_scratchpad'] output_parser=None partial_variables={} template='You are an agent designed to answer questions about sets of documents.\\nYou have access to tools for interacting with the documents, and the inputs to the tools are questions.\\nYou will always provide sources for your questions, in which case you should use the appropriate tool to do so.\\nIf the question does not seem relevant to any of the tools provided, just return \"I don\\'t know\" as the answer.\\n\\n\\nhotest_travel_advice: Useful for when you need to answer questions about hotest_travel_advice. Whenever you need information about the hotest travel advice at present you should ALWAYS use this. Input should be a fully formed question.\\nhotest_travel_advice_with_sources: Useful for when you need to answer questions about hotest_travel_advice and the sources used to construct the answer. Whenever you need information about the hotest travel advice at present you should ALWAYS use this.  Input should be a fully formed question. Output is a json serialized dictionary with keys `answer` and `sources`. Only use this tool if the user explicitly asks for sources.\\n\\nUse the following format:\\n\\nQuestion: the input question you must answer\\nThought: you should always think about what to do\\nAction: the action to take, should be one of [hotest_travel_advice, hotest_travel_advice_with_sources]\\nAction Input: the input to the action\\nObservation: the result of the action\\n... (this Thought/Action/Action Input/Observation can repeat N times)\\nThought: I now know the final answer\\nFinal Answer: the final answer to the original input question\\n\\nBegin!\\n\\nQuestion: {input}\\nThought:{agent_scratchpad}' template_format='f-string' validate_template=True\n"
     ]
    }
   ],
   "source": [
    "print(agent_executor.agent.llm_chain.prompt)"
   ]
  },
  {
   "cell_type": "markdown",
   "id": "bee32703-5468-41e7-b835-69abe439f131",
   "metadata": {},
   "source": [
    "# 7. 问个问题"
   ]
  },
  {
   "cell_type": "code",
   "execution_count": 12,
   "id": "e4e53709-8663-4c92-b47b-e1b919797c5d",
   "metadata": {
    "tags": []
   },
   "outputs": [
    {
     "name": "stdout",
     "output_type": "stream",
     "text": [
      "\n",
      "\n",
      "\u001b[1m> Entering new AgentExecutor chain...\u001b[0m\n",
      "\u001b[32;1m\u001b[1;3m I need to find the hottest travel advice\n",
      "Action: hotest_travel_advice\n",
      "Action Input: 年轻应该干什么？\u001b[0m"
     ]
    },
    {
     "name": "stderr",
     "output_type": "stream",
     "text": [
      "C:\\Users\\marlin\\AppData\\Local\\Packages\\PythonSoftwareFoundation.Python.3.11_qbz5n2kfra8p0\\LocalCache\\local-packages\\Python311\\site-packages\\langchain\\chains\\retrieval_qa\\base.py:186: UserWarning: `VectorDBQA` is deprecated - please use `from langchain.chains import RetrievalQA`\n",
      "  warnings.warn(\n"
     ]
    },
    {
     "name": "stdout",
     "output_type": "stream",
     "text": [
      "\n",
      "Observation: \u001b[36;1m\u001b[1;3m 年轻应该疯狂，一起自驾西藏，不负青春，不留遗憾，这才是我们要的旅行。\u001b[0m\n",
      "Thought:\u001b[32;1m\u001b[1;3m I now know the final answer\n",
      "Final Answer: 年轻应该疯狂，一起自驾西藏，不负青春，不留遗憾，这才是我们要的旅行。\u001b[0m\n",
      "\n",
      "\u001b[1m> Finished chain.\u001b[0m\n",
      "年轻应该疯狂，一起自驾西藏，不负青春，不留遗憾，这才是我们要的旅行。\n"
     ]
    }
   ],
   "source": [
    "resp = agent_executor.run(\"年轻应该干什么？\")\n",
    "print(resp)"
   ]
  }
 ],
 "metadata": {
  "kernelspec": {
   "display_name": "Python 3 (ipykernel)",
   "language": "python",
   "name": "python3"
  },
  "language_info": {
   "codemirror_mode": {
    "name": "ipython",
    "version": 3
   },
   "file_extension": ".py",
   "mimetype": "text/x-python",
   "name": "python",
   "nbconvert_exporter": "python",
   "pygments_lexer": "ipython3",
   "version": "3.11.3"
  }
 },
 "nbformat": 4,
 "nbformat_minor": 5
}
